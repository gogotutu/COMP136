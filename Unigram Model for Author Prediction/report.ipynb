{
 "cells": [
  {
   "cell_type": "markdown",
   "metadata": {
    "collapsed": false
   },
   "source": [
    "# Programming Project 1: Unigram Model"
   ]
  },
  {
   "cell_type": "markdown",
   "metadata": {},
   "source": [
    "## Task 1: Model Training, Prediction & Evaluation"
   ]
  },
  {
   "cell_type": "code",
   "execution_count": 1,
   "metadata": {
    "collapsed": true
   },
   "outputs": [],
   "source": [
    "%matplotlib inline \n",
    "\n",
    "import math\n",
    "import requests\n",
    "import numpy as np\n",
    "import matplotlib.pyplot as plt"
   ]
  },
  {
   "cell_type": "code",
   "execution_count": 2,
   "metadata": {
    "collapsed": false
   },
   "outputs": [
    {
     "name": "stdout",
     "output_type": "stream",
     "text": [
      "9999\n"
     ]
    }
   ],
   "source": [
    "# Read in files\n",
    "train = requests.get(\"http://www.cs.tufts.edu/comp/136/HW/pp1files/training_data.txt\").text\n",
    "test = requests.get(\"http://www.cs.tufts.edu/comp/136/HW/pp1files/test_data.txt\").text\n",
    "\n",
    "# Split the data into a list of words\n",
    "train_data = train.split()\n",
    "test_data = test.split()\n",
    "\n",
    "# Union the words in both the training set and the test set to build a dictionary\n",
    "vocabulary1 = set(train_data)|set(test_data)\n",
    "K = len(vocabulary1)\n",
    "print K"
   ]
  },
  {
   "cell_type": "code",
   "execution_count": 3,
   "metadata": {
    "collapsed": true
   },
   "outputs": [],
   "source": [
    "# Break up into 5 training sets of different sizes\n",
    "\n",
    "N = len(train_data)\n",
    "N1 = N/128\n",
    "N2 = N/64\n",
    "N3 = N/16\n",
    "N4 = N/4\n",
    "N5 = N\n",
    "\n",
    "train_data_1 = train_data[0:N1]\n",
    "train_data_2 = train_data[0:N2]\n",
    "train_data_3 = train_data[0:N3]\n",
    "train_data_4 = train_data[0:N4]\n",
    "train_data_5 = train_data[0:N5]"
   ]
  },
  {
   "cell_type": "code",
   "execution_count": 4,
   "metadata": {
    "collapsed": true
   },
   "outputs": [],
   "source": [
    "# This function compute the Perplexity on the test set\n",
    "# It takes in three arguments: test data, training data, and a vocabulary of K words\n",
    "def compute_PP(test_data, train_data, vocabulary):\n",
    "\n",
    "    N_train = len(train_data)\n",
    "    N_test = len(test_data)\n",
    "    K = len(vocabulary)\n",
    "    \n",
    "    # Learn the model using trainning data: \n",
    "    # For each word in dictionary, count the number of times it appears in the training set\n",
    "    dictionary = dict.fromkeys(vocabulary,0)\n",
    "    for word in train_data:\n",
    "        dictionary[word] = dictionary[word] + 1\n",
    "    \n",
    "    \n",
    "    # Compute the perplexity for each method \n",
    "    ml, ma, pd = 0, 0, 0\n",
    "    for word in test_data:\n",
    "        ml = ml + math.log(float(max(0.1, dictionary[word]))/N_train)\n",
    "        ma = ma + math.log(float(dictionary[word] + 2 - 1)/(N_train + 2*K - K))\n",
    "        pd = pd + math.log(float(dictionary[word] + 2)/(N_train + 2*K))\n",
    "    \n",
    "    PP_ML = math.exp(-1./N_test * ml)\n",
    "    PP_MA = math.exp(-1./N_test * ma)\n",
    "    PP_PD = math.exp(-1./N_test * pd)\n",
    "    \n",
    "    return [PP_ML, PP_MA, PP_PD]"
   ]
  },
  {
   "cell_type": "code",
   "execution_count": 5,
   "metadata": {
    "collapsed": false
   },
   "outputs": [],
   "source": [
    "# Train the data using 5 different training sets, and test on the test sets\n",
    "row_1_test = compute_PP(test_data,train_data_1,vocabulary1)\n",
    "row_2_test = compute_PP(test_data,train_data_2,vocabulary1)\n",
    "row_3_test = compute_PP(test_data,train_data_3,vocabulary1)\n",
    "row_4_test = compute_PP(test_data,train_data_4,vocabulary1)\n",
    "row_5_test = compute_PP(test_data,train_data_5,vocabulary1)"
   ]
  },
  {
   "cell_type": "code",
   "execution_count": 6,
   "metadata": {
    "collapsed": false
   },
   "outputs": [
    {
     "data": {
      "text/html": [
       "<div>\n",
       "<table border=\"1\" class=\"dataframe\">\n",
       "  <thead>\n",
       "    <tr style=\"text-align: right;\">\n",
       "      <th></th>\n",
       "      <th>ML</th>\n",
       "      <th>MAP</th>\n",
       "      <th>PD</th>\n",
       "    </tr>\n",
       "  </thead>\n",
       "  <tbody>\n",
       "    <tr>\n",
       "      <th>set_1</th>\n",
       "      <td>15379.936958</td>\n",
       "      <td>10106.876173</td>\n",
       "      <td>9812.377969</td>\n",
       "    </tr>\n",
       "    <tr>\n",
       "      <th>set_2</th>\n",
       "      <td>14573.991210</td>\n",
       "      <td>10004.357699</td>\n",
       "      <td>9677.335644</td>\n",
       "    </tr>\n",
       "    <tr>\n",
       "      <th>set_3</th>\n",
       "      <td>10182.801074</td>\n",
       "      <td>9338.596328</td>\n",
       "      <td>9191.114889</td>\n",
       "    </tr>\n",
       "    <tr>\n",
       "      <th>set_4</th>\n",
       "      <td>8855.383090</td>\n",
       "      <td>8800.537803</td>\n",
       "      <td>8779.915215</td>\n",
       "    </tr>\n",
       "    <tr>\n",
       "      <th>set_5</th>\n",
       "      <td>8612.346411</td>\n",
       "      <td>8609.536151</td>\n",
       "      <td>8607.971360</td>\n",
       "    </tr>\n",
       "  </tbody>\n",
       "</table>\n",
       "</div>"
      ],
      "text/plain": [
       "                 ML           MAP           PD\n",
       "set_1  15379.936958  10106.876173  9812.377969\n",
       "set_2  14573.991210  10004.357699  9677.335644\n",
       "set_3  10182.801074   9338.596328  9191.114889\n",
       "set_4   8855.383090   8800.537803  8779.915215\n",
       "set_5   8612.346411   8609.536151  8607.971360"
      ]
     },
     "execution_count": 6,
     "metadata": {},
     "output_type": "execute_result"
    }
   ],
   "source": [
    "# Build a dataframe to see the results\n",
    "PP_test = [row_1_test, row_2_test, row_3_test, row_4_test, row_5_test]\n",
    "df_test = pd.DataFrame(data = PP_test,index = [\"set_1\",\"set_2\",\"set_3\",\"set_4\",\"set_5\"], columns = [\"ML\",\"MAP\",\"PD\"])\n",
    "df_test"
   ]
  },
  {
   "cell_type": "code",
   "execution_count": 7,
   "metadata": {
    "collapsed": false
   },
   "outputs": [
    {
     "data": {
      "text/plain": [
       "<matplotlib.text.Text at 0x11ed1fb90>"
      ]
     },
     "execution_count": 7,
     "metadata": {},
     "output_type": "execute_result"
    },
    {
     "data": {
      "image/png": "[encoded data removed]",
      "text/plain": [
       "<matplotlib.figure.Figure at 0x1123e0510>"
      ]
     },
     "metadata": {},
     "output_type": "display_data"
    }
   ],
   "source": [
    "# Plotting\n",
    "X = [1, 2, 3, 4, 5]\n",
    "plt.plot(X,df_test[\"ML\"],X,df_test[\"MAP\"],X,df_test[\"PD\"])\n",
    "plt.ylim(8000,16000) #Limiting the range of y-axis\n",
    "plt.xlabel(\"Training sets of different sizes\")\n",
    "plt.xticks(X, [\"N/128\",\"N/64\",\"N/16\",\"N/4\",\"N\"])\n",
    "plt.ylabel(\"Perplexity\")\n",
    "plt.legend([\"ML\",\"MAP\",\"Pred. Dist.\"])\n",
    "plt.title(\"Test Set Perplexity\")"
   ]
  },
  {
   "cell_type": "code",
   "execution_count": 8,
   "metadata": {
    "collapsed": false
   },
   "outputs": [],
   "source": [
    "# We repeat the above, but now test on training set itself\n",
    "row_1_train = compute_PP(train_data,train_data_1,vocabulary1)\n",
    "row_2_train = compute_PP(train_data,train_data_2,vocabulary1)\n",
    "row_3_train = compute_PP(train_data,train_data_3,vocabulary1)\n",
    "row_4_train = compute_PP(train_data,train_data_4,vocabulary1)\n",
    "row_5_train = compute_PP(train_data,train_data_5,vocabulary1)"
   ]
  },
  {
   "cell_type": "code",
   "execution_count": 9,
   "metadata": {
    "collapsed": false
   },
   "outputs": [
    {
     "data": {
      "text/html": [
       "<div>\n",
       "<table border=\"1\" class=\"dataframe\">\n",
       "  <thead>\n",
       "    <tr style=\"text-align: right;\">\n",
       "      <th></th>\n",
       "      <th>ML</th>\n",
       "      <th>MAP</th>\n",
       "      <th>PD</th>\n",
       "    </tr>\n",
       "  </thead>\n",
       "  <tbody>\n",
       "    <tr>\n",
       "      <th>set_1</th>\n",
       "      <td>15156.908333</td>\n",
       "      <td>10054.372908</td>\n",
       "      <td>9780.274676</td>\n",
       "    </tr>\n",
       "    <tr>\n",
       "      <th>set_2</th>\n",
       "      <td>14361.469808</td>\n",
       "      <td>9940.460034</td>\n",
       "      <td>9635.287851</td>\n",
       "    </tr>\n",
       "    <tr>\n",
       "      <th>set_3</th>\n",
       "      <td>10010.163940</td>\n",
       "      <td>9235.069746</td>\n",
       "      <td>9110.065740</td>\n",
       "    </tr>\n",
       "    <tr>\n",
       "      <th>set_4</th>\n",
       "      <td>8704.362513</td>\n",
       "      <td>8667.212369</td>\n",
       "      <td>8657.737801</td>\n",
       "    </tr>\n",
       "    <tr>\n",
       "      <th>set_5</th>\n",
       "      <td>8476.454149</td>\n",
       "      <td>8477.001546</td>\n",
       "      <td>8478.501172</td>\n",
       "    </tr>\n",
       "  </tbody>\n",
       "</table>\n",
       "</div>"
      ],
      "text/plain": [
       "                 ML           MAP           PD\n",
       "set_1  15156.908333  10054.372908  9780.274676\n",
       "set_2  14361.469808   9940.460034  9635.287851\n",
       "set_3  10010.163940   9235.069746  9110.065740\n",
       "set_4   8704.362513   8667.212369  8657.737801\n",
       "set_5   8476.454149   8477.001546  8478.501172"
      ]
     },
     "execution_count": 9,
     "metadata": {},
     "output_type": "execute_result"
    }
   ],
   "source": [
    "PP_train = [row_1_train, row_2_train, row_3_train, row_4_train, row_5_train]\n",
    "df_train = pd.DataFrame(data = PP_train,index = [\"set_1\",\"set_2\",\"set_3\",\"set_4\",\"set_5\"], columns = [\"ML\",\"MAP\",\"PD\"])\n",
    "df_train"
   ]
  },
  {
   "cell_type": "code",
   "execution_count": 10,
   "metadata": {
    "collapsed": false
   },
   "outputs": [
    {
     "data": {
      "text/plain": [
       "<matplotlib.text.Text at 0x11f29b950>"
      ]
     },
     "execution_count": 10,
     "metadata": {},
     "output_type": "execute_result"
    },
    {
     "data": {
      "image/png": "[encoded data removed]",
      "text/plain": [
       "<matplotlib.figure.Figure at 0x11ece78d0>"
      ]
     },
     "metadata": {},
     "output_type": "display_data"
    }
   ],
   "source": [
    "# Plotting\n",
    "X = [1, 2, 3, 4, 5]\n",
    "plt.plot(X,df_train[\"ML\"],X,df_train[\"MAP\"],X,df_train[\"PD\"])\n",
    "plt.ylim(8000,16000) #Limiting the range of y-axis\n",
    "plt.xlabel(\"Training sets of different sizes\")\n",
    "plt.xticks(X, [\"N/128\",\"N/64\",\"N/16\",\"N/4\",\"N\"])\n",
    "plt.ylabel(\"Perplexity\")\n",
    "plt.legend([\"ML\",\"MAP\",\"Pred. Dist.\"])\n",
    "plt.title(\"Training Set Perplexity\")"
   ]
  },
  {
   "cell_type": "markdown",
   "metadata": {},
   "source": [
    "### Discussion:\n",
    "\n",
    "* **Q:** What happens to the test set perplexities of the different methods with respect to each other as the trainning set size increases? Please explain why this occurs.\n",
    "   \n",
    "   **A:** For each method, the test set perplexity decreases as the size of the trainning set increases. This is because our model is more accurate with larger training set. Perplexity is minimized when $p(w_i \\mid \\text{model}) \\approx $ actual frequency of $w_i$ appears in all text, specifically in test set.\n",
    "\n",
    "\n",
    "* **Q:** What is the obvious shortcoming of the maximum likelihood estimate for a unigram model? How do the other two approaches address this issue?\n",
    "\n",
    "    **A:** The shortcoming of the maximum likelihood is that it cannot handle 0. When $p(w_i) = 0$ the Perplexity is essentially $\\infty$. However, this 0 frequency is only due to the limited size of our training data. In reality, there are words that appear with very low frequencies, but never actually 0.\n",
    "    \n",
    "    The other two methods deal with this issue by adding pseudocounts, and therefore avoided dealing with 0.\n",
    "\n",
    "\n",
    "* **Q:** For the full training set, how sensitive do you think the test set perplexity will be to small changes in $\\alpha$?\n",
    "\n",
    "    **A:** The test set perplexity will *NOT* change much with respect to small changes in $\\alpha$, in other word, it is robust."
   ]
  },
  {
   "cell_type": "markdown",
   "metadata": {
    "collapsed": true
   },
   "source": [
    "## Task 2: Model Selection"
   ]
  },
  {
   "cell_type": "code",
   "execution_count": 11,
   "metadata": {
    "collapsed": false
   },
   "outputs": [],
   "source": [
    "# Initialization\n",
    "alpha_prime = np.arange(1,11)\n",
    "log_evidence_vec = []\n",
    "test_perplexity_vec = []\n",
    "\n",
    "# Use the training set of size N/128 and train the model\n",
    "dictionary1 = dict.fromkeys(vocabulary1,0)\n",
    "for word in train_data_1:\n",
    "    dictionary1[word] = dictionary1[word] + 1\n",
    "\n",
    "# Loop over different values of alpha and compute both log evidence and perplexity\n",
    "for alpha in alpha_prime:\n",
    "    \n",
    "    alpha_0 = alpha * K\n",
    "    \n",
    "    # Recursively compute the log evidence function, avoiding compute the factorial\n",
    "    le = 0\n",
    "    for word in dictionary1:\n",
    "        for k in np.arange(0, dictionary1[word]):\n",
    "            le = le + math.log(alpha + k)\n",
    "    for k in np.arange(0, N1):\n",
    "        le = le - math.log(alpha_0 + k)    \n",
    "    log_evidence_vec.append(le)\n",
    "    \n",
    "    # Recursively compute the perplexity\n",
    "    pd = 0\n",
    "    for word in test_data:\n",
    "        pd = pd + math.log(float(dictionary1[word] + alpha)/(N1 + alpha * K))\n",
    "    test_perplexity = math.exp(-1./N * pd)\n",
    "    test_perplexity_vec.append(test_perplexity)"
   ]
  },
  {
   "cell_type": "code",
   "execution_count": 12,
   "metadata": {
    "collapsed": false
   },
   "outputs": [
    {
     "data": {
      "text/plain": [
       "<matplotlib.text.Text at 0x11f269a10>"
      ]
     },
     "execution_count": 12,
     "metadata": {},
     "output_type": "execute_result"
    },
    {
     "data": {
      "image/png": "[encoded data removed]",
      "text/plain": [
       "<matplotlib.figure.Figure at 0x11ed6bf90>"
      ]
     },
     "metadata": {},
     "output_type": "display_data"
    }
   ],
   "source": [
    "plt.plot(alpha_prime, log_evidence_vec)\n",
    "plt.xlabel(\"alpha'\")\n",
    "plt.ylabel(\"log evidence function\")"
   ]
  },
  {
   "cell_type": "code",
   "execution_count": 13,
   "metadata": {
    "collapsed": false
   },
   "outputs": [
    {
     "data": {
      "text/plain": [
       "<matplotlib.text.Text at 0x11f3df910>"
      ]
     },
     "execution_count": 13,
     "metadata": {},
     "output_type": "execute_result"
    },
    {
     "data": {
      "image/png": "[encoded data removed]",
      "text/plain": [
       "<matplotlib.figure.Figure at 0x11f3f09d0>"
      ]
     },
     "metadata": {},
     "output_type": "display_data"
    }
   ],
   "source": [
    "plt.plot(alpha_prime, test_perplexity_vec)\n",
    "plt.xlabel(\"alpha'\")\n",
    "plt.ylabel(\"test set perplexity\")"
   ]
  },
  {
   "cell_type": "markdown",
   "metadata": {},
   "source": [
    "### Discussion:\n",
    "\n",
    "* **Q:** Because we cannot use our test set for model selection, we can only use our training set. So, we can use and log evidence function for model selection. From the result, we can see that maximizing the evidence function gives the same result as minimizing the perplexity on the test set. Therefore, maximizing the evidence function is a good method for model selection on this dataset."
   ]
  },
  {
   "cell_type": "markdown",
   "metadata": {},
   "source": [
    "## Task 3: Author Identification"
   ]
  },
  {
   "cell_type": "code",
   "execution_count": 14,
   "metadata": {
    "collapsed": false
   },
   "outputs": [
    {
     "data": {
      "text/plain": [
       "16412"
      ]
     },
     "execution_count": 14,
     "metadata": {},
     "output_type": "execute_result"
    }
   ],
   "source": [
    "text_1 = requests.get(\"http://www.cs.tufts.edu/comp/136/HW/pp1files/pg84.txt.clean\").text\n",
    "text_2 = requests.get(\"http://www.cs.tufts.edu/comp/136/HW/pp1files/pg345.txt.clean\").text\n",
    "text_3 = requests.get(\"http://www.cs.tufts.edu/comp/136/HW/pp1files/pg1188.txt.clean\").text\n",
    "\n",
    "pg84 = text_1.split()\n",
    "pg345 = text_2.split()\n",
    "pg1188 = text_3.split()\n",
    "\n",
    "# Build a new vocabulary for task 3\n",
    "vocabulary2 = set(pg84) | set(pg345) | set(pg1188)\n",
    "len(vocabulary2)"
   ]
  },
  {
   "cell_type": "code",
   "execution_count": 15,
   "metadata": {
    "collapsed": false
   },
   "outputs": [
    {
     "data": {
      "text/plain": [
       "[13101.10255864224, 8826.678364177467, 8270.715156571314]"
      ]
     },
     "execution_count": 15,
     "metadata": {},
     "output_type": "execute_result"
    }
   ],
   "source": [
    "# train the model with pg345 and test on pg84, the third number is the perplexity\n",
    "compute_PP(pg84, pg345, vocabulary2)"
   ]
  },
  {
   "cell_type": "code",
   "execution_count": 16,
   "metadata": {
    "collapsed": false
   },
   "outputs": [
    {
     "data": {
      "text/plain": [
       "[8486.55777395004, 6068.840388074156, 5864.369456955972]"
      ]
     },
     "execution_count": 16,
     "metadata": {},
     "output_type": "execute_result"
    }
   ],
   "source": [
    "# train the model with pg345 and test on pg1188, the third number is the perplexity\n",
    "compute_PP(pg1188, pg345, vocabulary2)"
   ]
  },
  {
   "cell_type": "markdown",
   "metadata": {},
   "source": [
    "### Discussion:\n",
    "\n",
    "pg1188 has lower perplexity, and therefore is from the same author as pg345"
   ]
  }
 ],
 "metadata": {
  "anaconda-cloud": {},
  "kernelspec": {
   "display_name": "Python [Root]",
   "language": "python",
   "name": "Python [Root]"
  },
  "language_info": {
   "codemirror_mode": {
    "name": "ipython",
    "version": 2
   },
   "file_extension": ".py",
   "mimetype": "text/x-python",
   "name": "python",
   "nbconvert_exporter": "python",
   "pygments_lexer": "ipython2",
   "version": "2.7.11"
  }
 },
 "nbformat": 4,
 "nbformat_minor": 0
}
