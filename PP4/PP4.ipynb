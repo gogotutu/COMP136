{
 "cells": [
  {
   "cell_type": "code",
   "execution_count": 1,
   "metadata": {
    "collapsed": true
   },
   "outputs": [],
   "source": [
    "%matplotlib inline\n",
    "import numpy as np\n",
    "import sys\n",
    "import random\n",
    "import pandas as pd\n",
    "import matplotlib.pyplot as plt\n",
    "import matplotlib"
   ]
  },
  {
   "cell_type": "markdown",
   "metadata": {},
   "source": [
    "## Task 1 Gibbs Sampling"
   ]
  },
  {
   "cell_type": "code",
   "execution_count": 2,
   "metadata": {
    "collapsed": false
   },
   "outputs": [],
   "source": [
    "def read_file(filename):\n",
    "    with open(\"20newsgroups/\" + filename, 'r') as f:\n",
    "        data = f.read().split(\" \")\n",
    "        data.remove(\"\")\n",
    "    return data"
   ]
  },
  {
   "cell_type": "code",
   "execution_count": 3,
   "metadata": {
    "collapsed": false
   },
   "outputs": [],
   "source": [
    "# Initialization:\n",
    "\n",
    "# Initialize constants\n",
    "K = 20\n",
    "D = 200\n",
    "alpha = 50.0/K\n",
    "beta = 0.1\n",
    "N_iters = 500\n",
    "\n",
    "# Initialize d(n) and z()\n",
    "data = np.array([])\n",
    "d = np.array([],dtype = int)\n",
    "z = np.array([],dtype = int)\n",
    "for i in range(1,D+1):\n",
    "    data_i = read_file(str(i))\n",
    "    l_i = len(data_i)\n",
    "    d_i = i*np.ones([1,l_i], dtype = int)\n",
    "    z_i = np.random.randint(1, K+1, [1,l_i])\n",
    "    \n",
    "    data = np.append(data, data_i)\n",
    "    d = np.append(d, d_i)\n",
    "    z = np.append(z, z_i)\n",
    "\n",
    "N_words = len(data)\n",
    "\n",
    "Vocab = list(set(data))\n",
    "Vocab.sort()\n",
    "V = len(Vocab)\n",
    "\n",
    "# Initialize w(n), coverting a list of words\n",
    "# into a list of indices of the words\n",
    "word_index = dict.fromkeys(Vocab,0)\n",
    "for i in range(len(Vocab)):\n",
    "    word_index[Vocab[i]] = i+1\n",
    "w = np.zeros(N_words, dtype = int)\n",
    "for i in range(N_words):\n",
    "    w[i] = word_index[data[i]]\n",
    "\n",
    "# Initialized pi\n",
    "pi = np.random.permutation(range(0,N_words))\n",
    "\n",
    "# Compute Cd and Ct\n",
    "Cd = np.zeros([D,K])\n",
    "for i in range(D):\n",
    "    for j in range(K):\n",
    "        Cd[i,j] = sum((d == i+1) * (z == j+1))\n",
    "        \n",
    "Ct = np.zeros([K,V])\n",
    "for i in range(K):\n",
    "    for j in range(V):\n",
    "        Ct[i,j] = sum((z == i+1) * (w == j+1))\n",
    "\n",
    "# Initialize P\n",
    "P = np.zeros(K)"
   ]
  },
  {
   "cell_type": "code",
   "execution_count": 6,
   "metadata": {
    "collapsed": false
   },
   "outputs": [],
   "source": [
    "# Gibbs sampling\n",
    "for iter in range(N_iters):\n",
    "    for n in range(0,N_words):\n",
    "        word = w[pi[n]]\n",
    "        topic = z[pi[n]]\n",
    "        doc = d[pi[n]]\n",
    "        Cd[doc-1,topic-1] = Cd[doc-1,topic-1] - 1\n",
    "        Ct[topic-1,word-1] = Ct[topic-1,word-1] - 1\n",
    "        for k in range(0,K):\n",
    "            P[k] = (Ct[k,word-1] + beta)/(V*beta + sum(Ct[k,:])) * (Cd[doc-1,k] + alpha)/(K*alpha + sum(Cd[doc-1,:]))\n",
    "        P = P/sum(P)\n",
    "        topic = np.random.choice(range(1,K+1),p = P)\n",
    "        z[pi[n]] = topic\n",
    "        Cd[doc-1,topic-1] = Cd[doc-1,topic-1] + 1\n",
    "        Ct[topic-1,word-1] = Ct[topic-1,word-1] + 1"
   ]
  },
  {
   "cell_type": "code",
   "execution_count": 7,
   "metadata": {
    "collapsed": false
   },
   "outputs": [
    {
     "name": "stdout",
     "output_type": "stream",
     "text": [
      "[['insurance' 'geico' 'questions' 'read' 'buy']\n",
      " ['edu' 'writes' 'article' 'mustang' 'camaro']\n",
      " ['car' 'ford' 'driving' 'miles' 'feel']\n",
      " ['sky' 'don' 'point' 'night' 'uiuc']\n",
      " ['oil' 'service' 'come' 'time' 'change']\n",
      " ['station' 'launch' 'option' 'two' 'redesign']\n",
      " ['cars' 'manual' 'small' 'seat' 'put']\n",
      " ['bill' 'back' 'moon' 'time' 'called']\n",
      " ['car' 'clutch' 'shifter' 'sho' 'don']\n",
      " ['engine' 'power' 'heard' 'turbo' 'diesels']\n",
      " ['system' 'part' 'idea' 'spacecraft' 'mars']\n",
      " ['car' 'price' 'problem' 'dealer' 'auto']\n",
      " ['henry' 'toronto' 'writes' 'spencer' 'speed']\n",
      " ['edu' 'gif' 'uci' 'ics' 'incoming']\n",
      " ['mission' 'hst' 'shuttle' 'solar' 'pat']\n",
      " ['etc' 'day' 'life' 'earth' 'article']\n",
      " ['make' 'cost' 'don' 'writes' 'two']\n",
      " ['people' 'want' 'good' 'george' 'money']\n",
      " ['space' 'long' 'internet' 'science' 'nasa']\n",
      " ['article' 'writes' 'apr' 'oort' 'eliot']]\n"
     ]
    }
   ],
   "source": [
    "# Find out the five most frequent words\n",
    "\n",
    "most_freq_words = np.zeros([K,5] ,dtype = object)\n",
    "for i in range(K):\n",
    "    most_freq = np.argsort(Ct[i])[-5:][::-1]\n",
    "    for j in range(5):\n",
    "        most_freq_words[i,j] = Vocab[most_freq[j]]\n",
    "print most_freq_words\n",
    "df = pd.DataFrame(most_freq_words)\n",
    "df.to_csv(\"topicwords.csv\",header = False, index = False)"
   ]
  },
  {
   "cell_type": "code",
   "execution_count": 10,
   "metadata": {
    "collapsed": false
   },
   "outputs": [],
   "source": [
    "# Preparing the two representations for Task 2\n",
    "# X_topic is the LDA representatsion\n",
    "# X_bow is the bag-of-words representation\n",
    "# Y is the training label\n",
    "\n",
    "X_topic = np.zeros([D,K])\n",
    "for i in range(D):\n",
    "    for j in range(K):\n",
    "        X_topic[i,j] = (Cd[i,j] + alpha)/(K*alpha + np.sum(Cd[i,:]))\n",
    "\n",
    "X_bow = np.zeros([D,V])\n",
    "for i in range(D):\n",
    "    for j in range(V):\n",
    "        X_bow[i,j] = (sum((d == i+1) * (data == Vocab[j])) + 0.0) / sum(d == i+1)\n",
    "\n",
    "df = pd.read_csv(\"20newsgroups/index.csv\", header = None)\n",
    "Y = df.iloc[:,[1]].values"
   ]
  },
  {
   "cell_type": "markdown",
   "metadata": {},
   "source": [
    "## Task 2 Classification"
   ]
  },
  {
   "cell_type": "code",
   "execution_count": 11,
   "metadata": {
    "collapsed": true
   },
   "outputs": [],
   "source": [
    "# Split 1/3 of the data to be test data, and 2/3 to be training data\n",
    "def train_test_split(data,label):\n",
    "    N = data.shape[0]\n",
    "    ind = np.random.permutation(range(N))\n",
    "    train_ind = ind[0:2*N/3]\n",
    "    test_ind = ind[2*N/3:N]\n",
    "    \n",
    "    train_data = data[train_ind]\n",
    "    train_label = label[train_ind]\n",
    "    test_data = data[test_ind]\n",
    "    test_label = label[test_ind]\n",
    "    return train_data, train_label, test_data, test_label"
   ]
  },
  {
   "cell_type": "code",
   "execution_count": 12,
   "metadata": {
    "collapsed": true
   },
   "outputs": [],
   "source": [
    "def bay_log_reg(train_data, train_label, test_data, test_label):\n",
    "    \n",
    "    N = train_data.shape[0]\n",
    "    ones = np.array([[1]]*N)\n",
    "    train_data = np.concatenate((ones, train_data), axis = 1) # Add one column of ones to the features\n",
    "    M = train_data.shape[1]\n",
    "\n",
    "    phi = train_data\n",
    "    t = train_label\n",
    "    alpha = 0.01\n",
    "    w = np.array([[0]]*M) # Initialize w as a column of 0 vector\n",
    "    tol = 1\n",
    "    n = 1\n",
    "\n",
    "\n",
    "    while tol > 10**-3 and n < 100:\n",
    "        \n",
    "        w_old = w\n",
    "\n",
    "        a = phi.dot(w_old)\n",
    "        y = 1.0/(1 + np.exp(-a))\n",
    "        r = y*(1-y)\n",
    "        R = np.diag(r.ravel())\n",
    "        I = np.eye(M)\n",
    "        A = alpha * I + phi.T.dot(R.dot(phi))\n",
    "        B = phi.T.dot(y - t) + alpha * w_old\n",
    "        w_new = w_old - np.linalg.inv(A).dot(B)\n",
    "\n",
    "        tol = np.linalg.norm(w_new - w_old) / np.linalg.norm(w_old)\n",
    "        w = w_new\n",
    "        n += 1 \n",
    "    \n",
    "    a = phi.dot(w)\n",
    "    y = 1.0/(1 + np.exp(-a))\n",
    "    SN_inv = alpha * I\n",
    "    for n in range(N):\n",
    "        SN_inv += y[n]*(1-y[n]) * np.outer(phi[n],phi[n])\n",
    "    SN = np.linalg.inv(SN_inv)\n",
    "\n",
    "    # Testing\n",
    "    ones = np.array([[1]]*test_data.shape[0])\n",
    "    test_data = np.concatenate((ones, test_data), axis = 1)\n",
    "    phi_test = test_data\n",
    "    vec = []\n",
    "    for n in range(test_data.shape[0]):\n",
    "        mu_a = phi_test[n].dot(w)\n",
    "        sigma_a_squared = phi_test[n].T.dot(SN.dot(phi_test[n]))\n",
    "        kappa = (1 + np.pi * sigma_a_squared / 8) ** (-1.0/2)\n",
    "        p = 1.0/(1 + np.exp( - kappa * mu_a))\n",
    "        if p >= 0.5:\n",
    "            vec.append(int(test_label[n] == 1))\n",
    "        else:\n",
    "            vec.append(int(test_label[n] == 0))\n",
    "    acc = float(sum(vec))/len(vec)\n",
    "    \n",
    "    return acc"
   ]
  },
  {
   "cell_type": "code",
   "execution_count": 13,
   "metadata": {
    "collapsed": false
   },
   "outputs": [],
   "source": [
    "# Plot the learning curves\n",
    "size_vec= [0.1, 0.2, 0.3, 0.4, 0.5, 0.6, 0.7, 0.8, 0.9, 1]\n",
    "acc_topic = np.zeros([30,len(size_vec)])\n",
    "acc_bow = np.zeros([30,len(size_vec)])\n",
    "\n",
    "for k in range(30):\n",
    "    train_data_topic, train_label_topic, test_data_topic, test_label_topic = train_test_split(X_topic,Y)\n",
    "    train_data_bow, train_label_bow, test_data_bow, test_label_bow = train_test_split(X_bow,Y)\n",
    "    j = 0\n",
    "    for s in size_vec:\n",
    "        acc_topic[k,j] = bay_log_reg(train_data_topic[0:int(s*D)], train_label_topic[0:int(s*D)], test_data_topic, test_label_topic)\n",
    "        acc_bow[k,j] = bay_log_reg(train_data_bow[0:int(s*D)], train_label_bow[0:int(s*D)], test_data_bow, test_label_bow)        \n",
    "        j += 1\n",
    "\n",
    "acc_topic_mean = np.mean(acc_topic, axis = 0)\n",
    "acc_topic_std = np.std(acc_topic, axis = 0)\n",
    "acc_bow_mean = np.mean(acc_bow, axis = 0)\n",
    "acc_bow_std = np.std(acc_bow, axis = 0)"
   ]
  },
  {
   "cell_type": "code",
   "execution_count": 14,
   "metadata": {
    "collapsed": false
   },
   "outputs": [
    {
     "data": {
      "text/plain": [
       "(0, 1.1)"
      ]
     },
     "execution_count": 14,
     "metadata": {},
     "output_type": "execute_result"
    },
    {
     "data": {
      "image/png": "[encoded data removed]",
      "text/plain": [
       "<matplotlib.figure.Figure at 0x11268e890>"
      ]
     },
     "metadata": {},
     "output_type": "display_data"
    }
   ],
   "source": [
    "fig = plt.gcf()\n",
    "fig.set_size_inches(10.5, 6.5)\n",
    "matplotlib.rcParams.update({'font.size': 16})\n",
    "plt.errorbar(size_vec, acc_topic_mean, yerr = acc_topic_std, fmt = 'b-^', markersize = 10)\n",
    "plt.errorbar(size_vec, acc_bow_mean, yerr = acc_bow_std, fmt = 'r-s', markersize = 10)\n",
    "plt.xlabel('training data size')\n",
    "plt.ylabel('Accuracy')\n",
    "plt.title('Comparison between LDA and Bag-of-words')\n",
    "plt.legend(['LDA','Bag of words'], loc = 4)\n",
    "plt.xlim(0,1.1)"
   ]
  },
  {
   "cell_type": "markdown",
   "metadata": {},
   "source": [
    "## Discussion:\n",
    "\n",
    "We can see that the Bag-of-words representation works better than the LDA representation when training dataset size is large. The LDA works only slightly better when training dataset size is small."
   ]
  }
 ],
 "metadata": {
  "anaconda-cloud": {},
  "kernelspec": {
   "display_name": "Python [Root]",
   "language": "python",
   "name": "Python [Root]"
  },
  "language_info": {
   "codemirror_mode": {
    "name": "ipython",
    "version": 2
   },
   "file_extension": ".py",
   "mimetype": "text/x-python",
   "name": "python",
   "nbconvert_exporter": "python",
   "pygments_lexer": "ipython2",
   "version": "2.7.11"
  }
 },
 "nbformat": 4,
 "nbformat_minor": 0
}
